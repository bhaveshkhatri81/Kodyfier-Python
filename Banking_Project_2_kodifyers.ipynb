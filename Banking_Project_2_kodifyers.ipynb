{
  "nbformat": 4,
  "nbformat_minor": 0,
  "metadata": {
    "colab": {
      "provenance": []
    },
    "kernelspec": {
      "name": "python3",
      "display_name": "Python 3"
    },
    "language_info": {
      "name": "python"
    }
  },
  "cells": [
    {
      "cell_type": "markdown",
      "source": [
        "**Feature Added**\n",
        "\n",
        "I've added a feature in which users will now have the option to update their PIN by selecting option 4 in the menu.\n",
        "\n",
        "**Bhavesh Khatri**"
      ],
      "metadata": {
        "id": "9Rhv6o8cqLEs"
      }
    },
    {
      "cell_type": "code",
      "execution_count": 5,
      "metadata": {
        "id": "TEY3D2jXmuAa"
      },
      "outputs": [],
      "source": [
        "class BankAccount:\n",
        "    def __init__(self, account_holder, initial_balance=0, atm_pin=None):\n",
        "        self.account_holder = account_holder\n",
        "        self.balance = initial_balance\n",
        "        self.atm_pin = atm_pin\n",
        "\n",
        "    def deposit(self, amount):\n",
        "        if amount > 0:\n",
        "            self.balance += amount\n",
        "            print(f\"Deposited {amount} Rs. New balance: {self.balance}\")\n",
        "        else:\n",
        "            print(\"Deposit amount must be greater than zero.\")\n",
        "\n",
        "    def update_pin(self, new_pin):\n",
        "        self.atm_pin = new_pin\n",
        "        print(\"Transaction PIN updated successfully.\")\n",
        "\n",
        "\n",
        "    def withdraw(self, amount):\n",
        "        if self.atm_pin is None:\n",
        "            print(\"Transaction PIN is not set. Please set your Transaction PIN.\")\n",
        "            return\n",
        "\n",
        "        if 0 < amount <= self.balance:\n",
        "            if amount <= 10000 and self.validate_pin():\n",
        "                self.balance -= amount\n",
        "                print(f\"Withdrew {amount} Rs. New balance: {self.balance}\")\n",
        "            else:\n",
        "                print(\"Withdrawal amount exceeds ATM limit or invalid PIN.\")\n",
        "        else:\n",
        "            print(\"Invalid withdrawal amount.\")\n",
        "\n",
        "    def check_balance(self):\n",
        "        print(f\"Current balance for {self.account_holder} is: {self.balance}\")\n",
        "\n",
        "    def validate_pin(self):\n",
        "        entered_pin = input(\"Enter your Transaction PIN: \")\n",
        "        return entered_pin == self.atm_pin"
      ]
    },
    {
      "cell_type": "code",
      "source": [
        "def main():\n",
        "    print(\"Welcome to Our Bank!\")\n",
        "    try:\n",
        "        account_holder = input(\"Enter account holder's name: \")\n",
        "        initial_balance = float(input(\"Enter initial balance: \"))\n",
        "        atm_pin = int(input(\"Set your Transaction PIN: \"))\n",
        "        user_account = BankAccount(account_holder, initial_balance, atm_pin)\n",
        "\n",
        "        while True:\n",
        "            print(\"\\nSelect an option:\")\n",
        "            print(\"1. Deposit\")\n",
        "            print(\"2. Withdraw\")\n",
        "            print(\"3. Check Balance\")\n",
        "            print(\"4. Update PIN\")\n",
        "            print(\"5. Exit\")\n",
        "\n",
        "            choice = input(\"Enter option number: \")\n",
        "\n",
        "            if choice == \"1\":\n",
        "                try:\n",
        "                    amount = float(input(\"Enter deposit amount: \"))\n",
        "                    user_account.deposit(amount)\n",
        "                except ValueError:\n",
        "                    print(\"Invalid input. Please enter a valid amount.\")\n",
        "            elif choice == \"2\":\n",
        "                try:\n",
        "                    amount = float(input(\"Enter withdrawal amount: \"))\n",
        "                    user_account.withdraw(amount)\n",
        "                except ValueError:\n",
        "                    print(\"Invalid input. Please enter a valid amount.\")\n",
        "            elif choice == \"3\":\n",
        "                user_account.check_balance()\n",
        "            elif choice == \"4\":\n",
        "                try:\n",
        "                    new_pin = int(input(\"Enter new Transaction PIN: \"))\n",
        "                    user_account.update_pin(new_pin)\n",
        "                except ValueError:\n",
        "                    print(\"Invalid input. Please enter a valid PIN.\")\n",
        "\n",
        "            elif choice == \"5\":\n",
        "                print(\"Thank you for using our bank services!\")\n",
        "                break\n",
        "            else:\n",
        "                print(\"Invalid choice. Please select a valid option.\")\n",
        "\n",
        "    except ValueError:\n",
        "        print(\"Invalid input. Please enter valid account information.\")\n",
        "\n",
        "if __name__ == \"__main__\":\n",
        "    main()"
      ],
      "metadata": {
        "colab": {
          "base_uri": "https://localhost:8080/",
          "height": 0
        },
        "id": "qQKGZlw1m5NU",
        "outputId": "9071a1dd-55b4-4418-d1f8-098ee3d0a195"
      },
      "execution_count": 7,
      "outputs": [
        {
          "output_type": "stream",
          "name": "stdout",
          "text": [
            "Welcome to Our Bank!\n",
            "Enter account holder's name: Bhavesh\n",
            "Enter initial balance: 5000\n",
            "Set your Transaction PIN: 1234\n",
            "\n",
            "Select an option:\n",
            "1. Deposit\n",
            "2. Withdraw\n",
            "3. Check Balance\n",
            "4. Update PIN\n",
            "5. Exit\n",
            "Enter option number: 4\n",
            "Enter new Transaction PIN: 4321\n",
            "Transaction PIN updated successfully.\n",
            "\n",
            "Select an option:\n",
            "1. Deposit\n",
            "2. Withdraw\n",
            "3. Check Balance\n",
            "4. Update PIN\n",
            "5. Exit\n",
            "Enter option number: 5\n",
            "Thank you for using our bank services!\n"
          ]
        }
      ]
    }
  ]
}