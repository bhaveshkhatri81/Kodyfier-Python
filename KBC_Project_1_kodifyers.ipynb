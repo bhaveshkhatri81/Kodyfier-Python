{
  "nbformat": 4,
  "nbformat_minor": 0,
  "metadata": {
    "colab": {
      "provenance": []
    },
    "kernelspec": {
      "name": "python3",
      "display_name": "Python 3"
    },
    "language_info": {
      "name": "python"
    }
  },
  "cells": [
    {
      "cell_type": "markdown",
      "source": [
        "**Feature Added**\n",
        "\n",
        "I've added a play_round function that handles the logic for playing one round of the game.\n",
        "\n",
        "**Bhavesh Khatri**"
      ],
      "metadata": {
        "id": "7gEP2KNwp2qW"
      }
    },
    {
      "cell_type": "code",
      "source": [
        "import random\n",
        "\n",
        "question_bank = [\n",
        "    {\n",
        "        \"question\": \"What is the capital of India?\",\n",
        "        \"options\": [\"New Delhi\", \"Mumbai\", \"Kolkata\", \"Chennai\"],\n",
        "        \"correct_answer\": \"New Delhi\",\n",
        "    },\n",
        "    {\n",
        "        \"question\": \"Which gas do plants use for photosynthesis?\",\n",
        "        \"options\": [\"Oxygen\", \"Carbon Dioxide\", \"Hydrogen\", \"Nitrogen\"],\n",
        "        \"correct_answer\": \"Carbon Dioxide\",\n",
        "    },\n",
        "    {\n",
        "        \"question\": \"What does the expression `'Python' * 3` evaluate to?\",\n",
        "        \"options\": [\"PythonPythonPython\", \"Python3\", \"Python,Python,Python\", \"TypeError\"],\n",
        "        \"correct_answer\": \"PythonPythonPython\",\n",
        "    }\n",
        "    # Add more questions here\n",
        "]\n",
        "\n",
        "level_winnings = [1000, 5000, 10000]\n",
        "\n",
        "def display_question(question_data):\n",
        "    print(question_data[\"question\"])\n",
        "    for i in range(len(question_data[\"options\"])):\n",
        "        option = question_data[\"options\"][i]\n",
        "        print(f\"{i + 1}. {option}\")\n",
        "\n",
        "def play_round(level, total_winnings):\n",
        "    question_data = random.choice(question_bank)\n",
        "    display_question(question_data)\n",
        "\n",
        "    while True:\n",
        "        try:\n",
        "            user_choice = int(input(\"Enter your choice (1-4): \"))\n",
        "        except ValueError:\n",
        "            print(\"Invalid input. Please enter a number.\")\n",
        "            continue\n",
        "\n",
        "        if user_choice < 1 or user_choice > 4:\n",
        "            print(\"Invalid choice. Please enter a number between 1 and 4.\")\n",
        "            continue\n",
        "\n",
        "        selected_option = question_data[\"options\"][user_choice - 1]\n",
        "\n",
        "        if selected_option == question_data[\"correct_answer\"]:\n",
        "            total_winnings += level_winnings[level]\n",
        "            print(\"Correct answer! You won\", level_winnings[level], \"points.\\n\")\n",
        "            return True, total_winnings\n",
        "        else:\n",
        "            print(\"Sorry, that's incorrect. The correct answer was:\", question_data[\"correct_answer\"], \"\\n\")\n",
        "            return False, total_winnings\n",
        "\n",
        "def game():\n",
        "    print(\"Welcome to Kaun Banega Crorepati!\")\n",
        "    total_winnings = 0\n",
        "\n",
        "    while True:\n",
        "        random.shuffle(question_bank)\n",
        "        level = 0\n",
        "        while level < len(level_winnings):\n",
        "            won, total_winnings = play_round(level, total_winnings)\n",
        "            if not won:\n",
        "                print(\"You lost the game.\")\n",
        "                break\n",
        "            level += 1\n",
        "\n",
        "        print(\"Congratulations! You won a total of\", total_winnings, \"points.\")\n",
        "        play_again = input(\"Do you want to play again? (yes/no): \")\n",
        "        if play_again.lower() != 'yes':\n",
        "            break\n",
        "\n",
        "    print(\"Thank you for playing!\")\n",
        "\n",
        "if __name__ == \"__main__\":\n",
        "    game()\n"
      ],
      "metadata": {
        "colab": {
          "base_uri": "https://localhost:8080/",
          "height": 0
        },
        "id": "RhgUTrPmpn7w",
        "outputId": "90aaec5e-4cdd-4cb6-e449-3a2b5da6a793"
      },
      "execution_count": 9,
      "outputs": [
        {
          "output_type": "stream",
          "name": "stdout",
          "text": [
            "Welcome to Kaun Banega Crorepati!\n",
            "What is the capital of India?\n",
            "1. New Delhi\n",
            "2. Mumbai\n",
            "3. Kolkata\n",
            "4. Chennai\n",
            "Enter your choice (1-4): 3\n",
            "Sorry, that's incorrect. The correct answer was: New Delhi \n",
            "\n",
            "You lost the game.\n",
            "Congratulations! You won a total of 0 points.\n",
            "Do you want to play again? (yes/no): yes\n",
            "What does the expression `'Python' * 3` evaluate to?\n",
            "1. PythonPythonPython\n",
            "2. Python3\n",
            "3. Python,Python,Python\n",
            "4. TypeError\n",
            "Enter your choice (1-4): 1\n",
            "Correct answer! You won 1000 points.\n",
            "\n",
            "What does the expression `'Python' * 3` evaluate to?\n",
            "1. PythonPythonPython\n",
            "2. Python3\n",
            "3. Python,Python,Python\n",
            "4. TypeError\n",
            "Enter your choice (1-4): 1\n",
            "Correct answer! You won 5000 points.\n",
            "\n",
            "What does the expression `'Python' * 3` evaluate to?\n",
            "1. PythonPythonPython\n",
            "2. Python3\n",
            "3. Python,Python,Python\n",
            "4. TypeError\n",
            "Enter your choice (1-4): 1\n",
            "Correct answer! You won 10000 points.\n",
            "\n",
            "Congratulations! You won a total of 16000 points.\n",
            "Do you want to play again? (yes/no): no\n",
            "Thank you for playing!\n"
          ]
        }
      ]
    }
  ]
}